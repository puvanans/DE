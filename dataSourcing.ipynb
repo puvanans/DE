{
 "cells": [
  {
   "cell_type": "markdown",
   "id": "5430beba-26d5-4895-a9f8-9d45cee4e5c4",
   "metadata": {},
   "source": [
    "# Data Sourcing\n",
    "\n",
    "This notebook will make API call and source data.\n",
    "\n",
    "* S&P 500\n",
    "   * P/E ratio for S&P (as a proxy for investors' emotional attitude towards the market\n",
    "* DOW Jones Index\n",
    "* Indian market's version of S&P and Dow Jones\n",
    "* Market indices founded on varying investment philosophies in both countries.\n"
   ]
  },
  {
   "cell_type": "markdown",
   "id": "2c0b55ee-0f11-4be5-9738-1785265eedb9",
   "metadata": {},
   "source": [
    "#### Ticker Symbols\n",
    "\n",
    "* S & P 500 -\n",
    "* Dow Jones Index -\n",
    "* NIFTY 500 -\n",
    "(500 Biggest companies listed in the NSE)\n",
    "* Sensex -\n",
    "(Sensitive Index of the 50 biggest companies listed in BSE)\n",
    "  "
   ]
  },
  {
   "cell_type": "code",
   "execution_count": 1,
   "id": "11780e23-1ea0-4ec9-9eed-4326241f5a1f",
   "metadata": {},
   "outputs": [],
   "source": [
    "import pandas as pd, requests"
   ]
  }
 ],
 "metadata": {
  "kernelspec": {
   "display_name": "Python 3 (ipykernel)",
   "language": "python",
   "name": "python3"
  },
  "language_info": {
   "codemirror_mode": {
    "name": "ipython",
    "version": 3
   },
   "file_extension": ".py",
   "mimetype": "text/x-python",
   "name": "python",
   "nbconvert_exporter": "python",
   "pygments_lexer": "ipython3",
   "version": "3.12.3"
  }
 },
 "nbformat": 4,
 "nbformat_minor": 5
}
