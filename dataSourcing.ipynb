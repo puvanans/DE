{
 "cells": [
  {
   "cell_type": "markdown",
   "id": "5430beba-26d5-4895-a9f8-9d45cee4e5c4",
   "metadata": {},
   "source": [
    "# Data Sourcing\n",
    "\n",
    "This notebook will make API call and source data.\n",
    "\n",
    "* S&P 500\n",
    "   * P/E ratio for S&P (as a proxy for investors' emotional attitude towards the market\n",
    "* Indian market's version of S&P and Dow Jones\n",
    "* Market indices based on varying investment philosophies in both countries.\n"
   ]
  },
  {
   "cell_type": "markdown",
   "id": "2c0b55ee-0f11-4be5-9738-1785265eedb9",
   "metadata": {},
   "source": [
    "#### Ticker Symbols\n",
    "\n",
    "* S & P 500 - VOO (Vanguard S&P 500 ETF(Ultra low-cost, strong tracking)\n",
    "* S & P 500 Growth ETF  - VOOG (Exposure to Large-Cap US Growth companies)\n",
    "* JP Morgan Equity Premium Income ETF (Actively managed) - JEPI\n"
   ]
  },
  {
   "cell_type": "code",
   "execution_count": 1,
   "id": "11780e23-1ea0-4ec9-9eed-4326241f5a1f",
   "metadata": {},
   "outputs": [],
   "source": [
    "import pandas as pd, requests"
   ]
  },
  {
   "cell_type": "code",
   "execution_count": 2,
   "id": "423f2a13-e300-4b03-8a19-5528c82216d7",
   "metadata": {},
   "outputs": [],
   "source": [
    "apiKey = 'RQRA0RQ6ZZAVMA26'"
   ]
  },
  {
   "cell_type": "code",
   "execution_count": 3,
   "id": "3fec73ec-19cc-41a9-bb83-2a475bce7625",
   "metadata": {},
   "outputs": [],
   "source": [
    "tickers = ['VOO','VOOG','JEPI']"
   ]
  },
  {
   "cell_type": "code",
   "execution_count": 50,
   "id": "1185c555-1bfa-4041-8542-4b2afb01d09b",
   "metadata": {},
   "outputs": [],
   "source": [
    "def fetchAPI(tickers, apiKey):\n",
    "    \n",
    "    r = requests.get(f\"https://www.alphavantage.co/query?function=TIME_SERIES_DAILY&symbol={'VOO'}&outputsize=full&apikey={apiKey}\")\n",
    "\n",
    "    # Contacts API endpoint with the API key and tickers\n",
    "\n",
    "    apiData = r.json()\n",
    "\n",
    "    # Converts the JSON data returned by the API to a Python readable format\n",
    "    \n",
    "    keys = list(apiData.keys())\n",
    "\n",
    "    # extracts the keys from the dict returned by the API call\n",
    "    \n",
    "    return apiData[keys[1]]\n",
    "\n",
    "    # returns the value from the second key value pair in the dict containing the data we are interested in."
   ]
  },
  {
   "cell_type": "code",
   "execution_count": 51,
   "id": "5c9b60e0-b645-4067-b8df-c5e73d88b9d6",
   "metadata": {},
   "outputs": [
    {
     "ename": "IndexError",
     "evalue": "list index out of range",
     "output_type": "error",
     "traceback": [
      "\u001b[0;31m---------------------------------------------------------------------------\u001b[0m",
      "\u001b[0;31mIndexError\u001b[0m                                Traceback (most recent call last)",
      "Cell \u001b[0;32mIn[51], line 1\u001b[0m\n\u001b[0;32m----> 1\u001b[0m \u001b[43mfetchAPI\u001b[49m\u001b[43m(\u001b[49m\u001b[38;5;124;43m'\u001b[39;49m\u001b[38;5;124;43mVOO\u001b[39;49m\u001b[38;5;124;43m'\u001b[39;49m\u001b[43m,\u001b[49m\u001b[43mapiKey\u001b[49m\u001b[43m)\u001b[49m\n",
      "Cell \u001b[0;32mIn[50], line 15\u001b[0m, in \u001b[0;36mfetchAPI\u001b[0;34m(tickers, apiKey)\u001b[0m\n\u001b[1;32m     11\u001b[0m keys \u001b[38;5;241m=\u001b[39m \u001b[38;5;28mlist\u001b[39m(apiData\u001b[38;5;241m.\u001b[39mkeys())\n\u001b[1;32m     13\u001b[0m \u001b[38;5;66;03m# extracts the keys from the dict returned by the API call\u001b[39;00m\n\u001b[0;32m---> 15\u001b[0m \u001b[38;5;28;01mreturn\u001b[39;00m apiData[\u001b[43mkeys\u001b[49m\u001b[43m[\u001b[49m\u001b[38;5;241;43m1\u001b[39;49m\u001b[43m]\u001b[49m]\n",
      "\u001b[0;31mIndexError\u001b[0m: list index out of range"
     ]
    }
   ],
   "source": [
    "fetchAPI('VOO',apiKey)"
   ]
  },
  {
   "cell_type": "code",
   "execution_count": 52,
   "id": "76e75436-81e5-424e-8538-c773d7393355",
   "metadata": {},
   "outputs": [
    {
     "ename": "IndexError",
     "evalue": "list index out of range",
     "output_type": "error",
     "traceback": [
      "\u001b[0;31m---------------------------------------------------------------------------\u001b[0m",
      "\u001b[0;31mIndexError\u001b[0m                                Traceback (most recent call last)",
      "Cell \u001b[0;32mIn[52], line 2\u001b[0m\n\u001b[1;32m      1\u001b[0m \u001b[38;5;66;03m# def clean_api_data(data, tickers):\u001b[39;00m\n\u001b[0;32m----> 2\u001b[0m data \u001b[38;5;241m=\u001b[39m \u001b[43mfetchAPI\u001b[49m\u001b[43m(\u001b[49m\u001b[38;5;124;43m'\u001b[39;49m\u001b[38;5;124;43mVOO\u001b[39;49m\u001b[38;5;124;43m'\u001b[39;49m\u001b[43m,\u001b[49m\u001b[43mapiKey\u001b[49m\u001b[43m)\u001b[49m\n\u001b[1;32m      3\u001b[0m df \u001b[38;5;241m=\u001b[39m pd\u001b[38;5;241m.\u001b[39mDataFrame\u001b[38;5;241m.\u001b[39mfrom_dict(data, orient \u001b[38;5;241m=\u001b[39m \u001b[38;5;124m'\u001b[39m\u001b[38;5;124mindex\u001b[39m\u001b[38;5;124m'\u001b[39m)\u001b[38;5;241m.\u001b[39mreset_index()\n\u001b[1;32m      4\u001b[0m \u001b[38;5;66;03m# df['index'] = pd.to_datetime(df['date'])\u001b[39;00m\n",
      "Cell \u001b[0;32mIn[50], line 15\u001b[0m, in \u001b[0;36mfetchAPI\u001b[0;34m(tickers, apiKey)\u001b[0m\n\u001b[1;32m     11\u001b[0m keys \u001b[38;5;241m=\u001b[39m \u001b[38;5;28mlist\u001b[39m(apiData\u001b[38;5;241m.\u001b[39mkeys())\n\u001b[1;32m     13\u001b[0m \u001b[38;5;66;03m# extracts the keys from the dict returned by the API call\u001b[39;00m\n\u001b[0;32m---> 15\u001b[0m \u001b[38;5;28;01mreturn\u001b[39;00m apiData[\u001b[43mkeys\u001b[49m\u001b[43m[\u001b[49m\u001b[38;5;241;43m1\u001b[39;49m\u001b[43m]\u001b[49m]\n",
      "\u001b[0;31mIndexError\u001b[0m: list index out of range"
     ]
    }
   ],
   "source": [
    "# def clean_api_data(data, tickers):\n",
    "data = fetchAPI('VOO',apiKey)\n",
    "df = pd.DataFrame.from_dict(data, orient = 'index').reset_index()\n",
    "# df['index'] = pd.to_datetime(df['date'])"
   ]
  },
  {
   "cell_type": "markdown",
   "id": "0e27cf8c-00c5-472c-ae83-45d4503e6ad2",
   "metadata": {},
   "source": [
    "callAPI function:\n",
    "\n",
    "Will take in a list of ticker symbols and return a dataframe.\n"
   ]
  },
  {
   "cell_type": "code",
   "execution_count": 5,
   "id": "7927d013-68f4-41fb-8203-3f8c7034374c",
   "metadata": {},
   "outputs": [],
   "source": [
    "def callAPI(tickers): \n",
    "    \n",
    "    dfs =[]\n",
    "    \n",
    "    for ticker in tickers:\n",
    "        # API request\n",
    "        r = requests.get(\n",
    "            f\"https://www.alphavantage.co/query?function=TIME_SERIES_DAILY&symbol={ticker}&outputsize=full&apikey={apiKey}\"\n",
    "        )\n",
    "        APIdata = r.json()\n",
    "\n",
    "        # The time series is usually the 2nd key in the dict\n",
    "        keys = list(APIdata.keys())\n",
    "        data = APIdata[keys[1]]\n",
    "\n",
    "        # Convert to DataFrame\n",
    "        temp_df = pd.DataFrame.from_dict(data, orient='index')\n",
    "\n",
    "        # Reset index so 'date' becomes a column\n",
    "        temp_df.reset_index(inplace=True)\n",
    "        temp_df.rename(columns={'index': 'date'}, inplace=True)\n",
    "\n",
    "        # Rename columns to cleaner names\n",
    "        rename_map = {\n",
    "            '1. open': 'open',\n",
    "            '2. high': 'high',\n",
    "            '3. low': 'low',\n",
    "            '4. close': 'close',\n",
    "            '5. volume': 'volume'\n",
    "        }\n",
    "        temp_df.rename(columns=rename_map, inplace=True)\n",
    "\n",
    "        # Convert types\n",
    "        temp_df['date'] = pd.to_datetime(temp_df['date'])\n",
    "        temp_df[['open', 'high', 'low', 'close']] = temp_df[['open', 'high', 'low', 'close']].astype(float)\n",
    "        temp_df['volume'] = temp_df['volume'].astype(int)\n",
    "\n",
    "        # Add ticker column\n",
    "        temp_df['ticker'] = ticker\n",
    "\n",
    "        dfs.append(temp_df)\n",
    "\n",
    "    # Combine all tickers into one DataFrame\n",
    "    all_data = pd.concat(dfs, ignore_index=True)\n",
    "\n",
    "    return all_data"
   ]
  },
  {
   "cell_type": "code",
   "execution_count": 6,
   "id": "af79aec2-9552-454f-a6bf-5c7bfc169bd0",
   "metadata": {},
   "outputs": [
    {
     "data": {
      "text/html": [
       "<div>\n",
       "<style scoped>\n",
       "    .dataframe tbody tr th:only-of-type {\n",
       "        vertical-align: middle;\n",
       "    }\n",
       "\n",
       "    .dataframe tbody tr th {\n",
       "        vertical-align: top;\n",
       "    }\n",
       "\n",
       "    .dataframe thead th {\n",
       "        text-align: right;\n",
       "    }\n",
       "</style>\n",
       "<table border=\"1\" class=\"dataframe\">\n",
       "  <thead>\n",
       "    <tr style=\"text-align: right;\">\n",
       "      <th></th>\n",
       "      <th>date</th>\n",
       "      <th>open</th>\n",
       "      <th>high</th>\n",
       "      <th>low</th>\n",
       "      <th>close</th>\n",
       "      <th>volume</th>\n",
       "      <th>ticker</th>\n",
       "    </tr>\n",
       "  </thead>\n",
       "  <tbody>\n",
       "    <tr>\n",
       "      <th>0</th>\n",
       "      <td>2025-08-26</td>\n",
       "      <td>590.38</td>\n",
       "      <td>593.4300</td>\n",
       "      <td>589.795</td>\n",
       "      <td>593.060</td>\n",
       "      <td>4776577</td>\n",
       "      <td>VOO</td>\n",
       "    </tr>\n",
       "    <tr>\n",
       "      <th>1</th>\n",
       "      <td>2025-08-25</td>\n",
       "      <td>592.05</td>\n",
       "      <td>593.2299</td>\n",
       "      <td>590.550</td>\n",
       "      <td>590.700</td>\n",
       "      <td>6483035</td>\n",
       "      <td>VOO</td>\n",
       "    </tr>\n",
       "    <tr>\n",
       "      <th>2</th>\n",
       "      <td>2025-08-22</td>\n",
       "      <td>586.27</td>\n",
       "      <td>594.3200</td>\n",
       "      <td>585.840</td>\n",
       "      <td>593.210</td>\n",
       "      <td>6389278</td>\n",
       "      <td>VOO</td>\n",
       "    </tr>\n",
       "    <tr>\n",
       "      <th>3</th>\n",
       "      <td>2025-08-21</td>\n",
       "      <td>584.93</td>\n",
       "      <td>586.4600</td>\n",
       "      <td>582.650</td>\n",
       "      <td>584.270</td>\n",
       "      <td>4807277</td>\n",
       "      <td>VOO</td>\n",
       "    </tr>\n",
       "    <tr>\n",
       "      <th>4</th>\n",
       "      <td>2025-08-20</td>\n",
       "      <td>587.81</td>\n",
       "      <td>588.0000</td>\n",
       "      <td>581.850</td>\n",
       "      <td>586.580</td>\n",
       "      <td>7113572</td>\n",
       "      <td>VOO</td>\n",
       "    </tr>\n",
       "    <tr>\n",
       "      <th>...</th>\n",
       "      <td>...</td>\n",
       "      <td>...</td>\n",
       "      <td>...</td>\n",
       "      <td>...</td>\n",
       "      <td>...</td>\n",
       "      <td>...</td>\n",
       "      <td>...</td>\n",
       "    </tr>\n",
       "    <tr>\n",
       "      <th>8846</th>\n",
       "      <td>2020-05-28</td>\n",
       "      <td>51.06</td>\n",
       "      <td>56.2700</td>\n",
       "      <td>50.920</td>\n",
       "      <td>51.140</td>\n",
       "      <td>53336</td>\n",
       "      <td>JEPI</td>\n",
       "    </tr>\n",
       "    <tr>\n",
       "      <th>8847</th>\n",
       "      <td>2020-05-27</td>\n",
       "      <td>50.72</td>\n",
       "      <td>50.7200</td>\n",
       "      <td>50.400</td>\n",
       "      <td>50.627</td>\n",
       "      <td>352088</td>\n",
       "      <td>JEPI</td>\n",
       "    </tr>\n",
       "    <tr>\n",
       "      <th>8848</th>\n",
       "      <td>2020-05-26</td>\n",
       "      <td>50.50</td>\n",
       "      <td>50.6000</td>\n",
       "      <td>50.238</td>\n",
       "      <td>50.238</td>\n",
       "      <td>5638</td>\n",
       "      <td>JEPI</td>\n",
       "    </tr>\n",
       "    <tr>\n",
       "      <th>8849</th>\n",
       "      <td>2020-05-22</td>\n",
       "      <td>49.93</td>\n",
       "      <td>50.1000</td>\n",
       "      <td>49.890</td>\n",
       "      <td>50.094</td>\n",
       "      <td>9518</td>\n",
       "      <td>JEPI</td>\n",
       "    </tr>\n",
       "    <tr>\n",
       "      <th>8850</th>\n",
       "      <td>2020-05-21</td>\n",
       "      <td>50.03</td>\n",
       "      <td>50.1300</td>\n",
       "      <td>49.860</td>\n",
       "      <td>49.935</td>\n",
       "      <td>6173</td>\n",
       "      <td>JEPI</td>\n",
       "    </tr>\n",
       "  </tbody>\n",
       "</table>\n",
       "<p>8851 rows × 7 columns</p>\n",
       "</div>"
      ],
      "text/plain": [
       "           date    open      high      low    close   volume ticker\n",
       "0    2025-08-26  590.38  593.4300  589.795  593.060  4776577    VOO\n",
       "1    2025-08-25  592.05  593.2299  590.550  590.700  6483035    VOO\n",
       "2    2025-08-22  586.27  594.3200  585.840  593.210  6389278    VOO\n",
       "3    2025-08-21  584.93  586.4600  582.650  584.270  4807277    VOO\n",
       "4    2025-08-20  587.81  588.0000  581.850  586.580  7113572    VOO\n",
       "...         ...     ...       ...      ...      ...      ...    ...\n",
       "8846 2020-05-28   51.06   56.2700   50.920   51.140    53336   JEPI\n",
       "8847 2020-05-27   50.72   50.7200   50.400   50.627   352088   JEPI\n",
       "8848 2020-05-26   50.50   50.6000   50.238   50.238     5638   JEPI\n",
       "8849 2020-05-22   49.93   50.1000   49.890   50.094     9518   JEPI\n",
       "8850 2020-05-21   50.03   50.1300   49.860   49.935     6173   JEPI\n",
       "\n",
       "[8851 rows x 7 columns]"
      ]
     },
     "execution_count": 6,
     "metadata": {},
     "output_type": "execute_result"
    }
   ],
   "source": [
    "callAPI(tickers)"
   ]
  },
  {
   "cell_type": "code",
   "execution_count": 7,
   "id": "1ae0b3f4-f061-4f63-bd1b-69b787a71223",
   "metadata": {},
   "outputs": [],
   "source": []
  }
 ],
 "metadata": {
  "kernelspec": {
   "display_name": "Python 3 (ipykernel)",
   "language": "python",
   "name": "python3"
  },
  "language_info": {
   "codemirror_mode": {
    "name": "ipython",
    "version": 3
   },
   "file_extension": ".py",
   "mimetype": "text/x-python",
   "name": "python",
   "nbconvert_exporter": "python",
   "pygments_lexer": "ipython3",
   "version": "3.12.3"
  }
 },
 "nbformat": 4,
 "nbformat_minor": 5
}
